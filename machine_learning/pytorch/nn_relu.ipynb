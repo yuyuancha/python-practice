{
 "cells": [
  {
   "cell_type": "code",
   "execution_count": 4,
   "id": "1ffe18f1",
   "metadata": {},
   "outputs": [
    {
     "name": "stdout",
     "output_type": "stream",
     "text": [
      "torch.Size([1, 1, 2, 2])\n",
      "tensor([[[[1., 0.],\n",
      "          [0., 3.]]]])\n"
     ]
    }
   ],
   "source": [
    "import torch\n",
    "from torch import nn\n",
    "from torch.nn import ReLU\n",
    "import torchvision\n",
    "from torch.utils.data import DataLoader\n",
    "from torch.utils.tensorboard import SummaryWriter\n",
    "\n",
    "input = torch.tensor([[1, -0.5],\n",
    "                      [-1, 3]])\n",
    "\n",
    "input = torch.reshape(input, (-1, 1, 2, 2))\n",
    "print(input.shape)\n",
    "\n",
    "dataset = torchvision.datasets.CIFAR10(\n",
    "    \"./datasets\", \n",
    "    train=False, \n",
    "    download=True, \n",
    "    transform=torchvision.transforms.ToTensor())\n",
    "dataLoader = DataLoader(dataset, batch_size=64)\n",
    "\n",
    "class Model(nn.Module):\n",
    "    def __init__(self):\n",
    "        super(Model, self).__init__()\n",
    "        self.relu1 = ReLU()\n",
    "    def forward(self, input):\n",
    "        output = self.relu1(input)\n",
    "        return output\n",
    "    \n",
    "model = Model()\n",
    "output = model(input)\n",
    "print(output)\n",
    "\n",
    "writer = SummaryWriter(\"./logs\")\n",
    "step = 0\n",
    "\n",
    "for data in dataLoader:\n",
    "    imgs, targets = data\n",
    "    writer.add_images(\"relu_input\", imgs, step)\n",
    "    output = model(imgs)\n",
    "    writer.add_images(\"relu_output\", output, step)\n",
    "    step = step + 1\n",
    "\n",
    "writer.close()\n"
   ]
  }
 ],
 "metadata": {
  "kernelspec": {
   "display_name": "pytorch-env",
   "language": "python",
   "name": "python3"
  },
  "language_info": {
   "codemirror_mode": {
    "name": "ipython",
    "version": 3
   },
   "file_extension": ".py",
   "mimetype": "text/x-python",
   "name": "python",
   "nbconvert_exporter": "python",
   "pygments_lexer": "ipython3",
   "version": "3.12.9"
  }
 },
 "nbformat": 4,
 "nbformat_minor": 5
}
